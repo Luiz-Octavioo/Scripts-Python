{
 "cells": [
  {
   "cell_type": "markdown",
   "metadata": {},
   "source": [
    "## Script para testar normalidade no Python 3"
   ]
  },
  {
   "cell_type": "markdown",
   "metadata": {},
   "source": [
    "# Autores: Luiz Octavio Fabricio dos Santos \n",
    "# Marcelo Sacardi Biudes \n",
    "# Nadja Gomes Machado\n",
    "\n",
    "<img align=\"center\" \n",
    "     width=\"40%\" \n",
    "     height='50%' \n",
    "     style='background-color:transparent' \n",
    "     src=\"https://github.com/octaviofisicaambiental/Scripts-Python/raw/main/GPIBA_LOGO-removebg.png\">\n",
    "\n",
    "O Grupo de pesquisa em Interação Biosfera-Atmosfera **(GPIBA)** tem como objetivo analisar os processos de troca que ocorrem entre a superfície do planeta e a atmosfera, assim como, realizar um monitoramento da variação espaço-temporal do balanço de energia, variaveis biofísicas e climáticas por tecnicas de instrumentação micrometerológica e sensoriamento remoto no estado de Mato Grosso.\n",
    "\n",
    "> Neste contexto são feitos scripts utilizando análises robustas e técnicas estatísticas para auxiliar na interpretação dos parâmetros que compõem estes processos."
   ]
  },
  {
   "cell_type": "markdown",
   "metadata": {},
   "source": [
    "## **`Descrição`**: Script para aplicar o teste de normalidade de Shapiro-Wilk"
   ]
  },
  {
   "cell_type": "code",
   "execution_count": 13,
   "metadata": {},
   "outputs": [
    {
     "name": "stdout",
     "output_type": "stream",
     "text": [
      "Versão do Python Utilizada:  3.8.5 | packaged by conda-forge | (default, Sep 24 2020, 16:20:24) [MSC v.1916 64 bit (AMD64)]\n"
     ]
    }
   ],
   "source": [
    "# Verificar a versão do Python utilzada no script\n",
    "import sys\n",
    "print('Versão do Python Utilizada: ',sys.version)"
   ]
  },
  {
   "cell_type": "code",
   "execution_count": 22,
   "metadata": {},
   "outputs": [],
   "source": [
    "# Importar as bibiotecas\n",
    "import scipy\n",
    "from scipy.stats import stats\n",
    "from scipy.stats import shapiro\n",
    "import numpy as np\n",
    "import pandas as pd\n",
    "import statistics\n",
    "from statsmodels.graphics.gofplots import qqplot\n",
    "import matplotlib.pyplot as plt\n",
    "import seaborn as sns"
   ]
  },
  {
   "cell_type": "code",
   "execution_count": 28,
   "metadata": {},
   "outputs": [
    {
     "name": "stdout",
     "output_type": "stream",
     "text": [
      "Banco de dados:\n"
     ]
    },
    {
     "data": {
      "text/html": [
       "<div>\n",
       "<style scoped>\n",
       "    .dataframe tbody tr th:only-of-type {\n",
       "        vertical-align: middle;\n",
       "    }\n",
       "\n",
       "    .dataframe tbody tr th {\n",
       "        vertical-align: top;\n",
       "    }\n",
       "\n",
       "    .dataframe thead th {\n",
       "        text-align: right;\n",
       "    }\n",
       "</style>\n",
       "<table border=\"1\" class=\"dataframe\">\n",
       "  <thead>\n",
       "    <tr style=\"text-align: right;\">\n",
       "      <th></th>\n",
       "      <th>Date</th>\n",
       "      <th>Temp</th>\n",
       "    </tr>\n",
       "  </thead>\n",
       "  <tbody>\n",
       "    <tr>\n",
       "      <th>0</th>\n",
       "      <td>1981-01-01</td>\n",
       "      <td>20.7</td>\n",
       "    </tr>\n",
       "    <tr>\n",
       "      <th>1</th>\n",
       "      <td>1981-01-02</td>\n",
       "      <td>17.9</td>\n",
       "    </tr>\n",
       "    <tr>\n",
       "      <th>2</th>\n",
       "      <td>1981-01-03</td>\n",
       "      <td>18.8</td>\n",
       "    </tr>\n",
       "    <tr>\n",
       "      <th>3</th>\n",
       "      <td>1981-01-04</td>\n",
       "      <td>14.6</td>\n",
       "    </tr>\n",
       "    <tr>\n",
       "      <th>4</th>\n",
       "      <td>1981-01-05</td>\n",
       "      <td>15.8</td>\n",
       "    </tr>\n",
       "    <tr>\n",
       "      <th>...</th>\n",
       "      <td>...</td>\n",
       "      <td>...</td>\n",
       "    </tr>\n",
       "    <tr>\n",
       "      <th>3645</th>\n",
       "      <td>1990-12-27</td>\n",
       "      <td>14.0</td>\n",
       "    </tr>\n",
       "    <tr>\n",
       "      <th>3646</th>\n",
       "      <td>1990-12-28</td>\n",
       "      <td>13.6</td>\n",
       "    </tr>\n",
       "    <tr>\n",
       "      <th>3647</th>\n",
       "      <td>1990-12-29</td>\n",
       "      <td>13.5</td>\n",
       "    </tr>\n",
       "    <tr>\n",
       "      <th>3648</th>\n",
       "      <td>1990-12-30</td>\n",
       "      <td>15.7</td>\n",
       "    </tr>\n",
       "    <tr>\n",
       "      <th>3649</th>\n",
       "      <td>1990-12-31</td>\n",
       "      <td>13.0</td>\n",
       "    </tr>\n",
       "  </tbody>\n",
       "</table>\n",
       "<p>3650 rows × 2 columns</p>\n",
       "</div>"
      ],
      "text/plain": [
       "            Date  Temp\n",
       "0     1981-01-01  20.7\n",
       "1     1981-01-02  17.9\n",
       "2     1981-01-03  18.8\n",
       "3     1981-01-04  14.6\n",
       "4     1981-01-05  15.8\n",
       "...          ...   ...\n",
       "3645  1990-12-27  14.0\n",
       "3646  1990-12-28  13.6\n",
       "3647  1990-12-29  13.5\n",
       "3648  1990-12-30  15.7\n",
       "3649  1990-12-31  13.0\n",
       "\n",
       "[3650 rows x 2 columns]"
      ]
     },
     "execution_count": 28,
     "metadata": {},
     "output_type": "execute_result"
    }
   ],
   "source": [
    "# Abrir o banco de dados\n",
    "df = pd.read_csv(\n",
    "    'https://raw.githubusercontent.com/jbrownlee/Datasets/'+\n",
    "    'master/daily-min-temperatures.csv')\n",
    "print('Banco de dados:')\n",
    "df"
   ]
  },
  {
   "cell_type": "code",
   "execution_count": 23,
   "metadata": {},
   "outputs": [
    {
     "name": "stdout",
     "output_type": "stream",
     "text": [
      "Variável selecionada: Temp\n",
      "Média: 11.18\n",
      "Desvio Padrão: 4.07\n",
      "Variância: 16.58\n",
      "Tamanho da variável selecionada: 3650 linhas\n"
     ]
    }
   ],
   "source": [
    "# Indexar variaveis\n",
    "test = df['Temp']\n",
    "print('Variável selecionada: {}'.format(test.name))\n",
    "# Passar o dataframe pandas para um numpy array\n",
    "y = np.array(test)\n",
    "\n",
    "# Calculo da média\n",
    "media = np.mean(y)\n",
    "print('Média: {:.2f}'.format(media))\n",
    "# Calculo do desvio padrão\n",
    "std = np.std(y, ddof=1)\n",
    "# Calculo da variância\n",
    "var = statistics.variance(test)\n",
    "print('Desvio Padrão: {:.2f}'.format(std))\n",
    "print('Variância: {:.2f}'.format(var))\n",
    "print('Tamanho da variável selecionada: {} linhas'.format(len(y)))"
   ]
  },
  {
   "cell_type": "code",
   "execution_count": 25,
   "metadata": {},
   "outputs": [
    {
     "name": "stdout",
     "output_type": "stream",
     "text": [
      "Teste Utilizado: Shapiro-Wilk\n",
      "==========================================================================================\n",
      "Segundo o teste de Shapiro-Wilk os dados NÃO aderem a uma distribuição Normal.\n",
      "Valor calculado do teste de Shapiro-Wilk: 1.00\n",
      "Valor-p: 0.00\n",
      "==========================================================================================\n"
     ]
    },
    {
     "data": {
      "image/png": "[encoded data removed]",
      "text/plain": [
       "<Figure size 576x288 with 2 Axes>"
      ]
     },
     "metadata": {
      "needs_background": "light"
     },
     "output_type": "display_data"
    }
   ],
   "source": [
    "print('Teste Utilizado: Shapiro-Wilk')\n",
    "\n",
    "\n",
    "def qqplot_fit(y, ax):\n",
    "    \"\"\" Insira apenas um vetor de dados na função\"\"\"\n",
    "\n",
    "    qqplot(y, dist=scipy.stats.distributions.norm, fit=True, line='45', ax=ax)\n",
    "    ax.minorticks_on()\n",
    "    ax.tick_params(axis='x', which=\"both\",\n",
    "                   direction='in', bottom=True, top=True)\n",
    "    ax.tick_params(axis='y', which=\"both\", direction='in',\n",
    "                   bottom=False, top=False, right=True)\n",
    "\n",
    "\n",
    "# Teste de Normalidade de Shapiro-Wilk\n",
    "stat, p = shapiro(y)\n",
    "alpha = 0.05\n",
    "print('='*90)\n",
    "if p > alpha:\n",
    "    print('Segundo o teste de Shapiro-Wilk os dados aderem a uma distribuição Normal.')\n",
    "    print('Valor calculado do teste de Shapiro-Wilk: {:.2f}'.format(stat))\n",
    "    print('Valor-p: {:.2f}'.format(p))\n",
    "else:\n",
    "    print('Segundo o teste de Shapiro-Wilk os dados NÃO aderem a uma distribuição Normal.')\n",
    "    print('Valor calculado do teste de Shapiro-Wilk: {:.2f}'.format(stat))\n",
    "    print('Valor-p: {:.2f}'.format(p))\n",
    "print('=' * 90)\n",
    "\n",
    "# Plot dos gráficos\n",
    "fig, (ax, ax1) = plt.subplots(figsize=[8, 4], ncols=2, tight_layout=True)\n",
    "qqplot_fit(y, ax)\n",
    "# plt.show()\n",
    "\n",
    "# Distruibuição dos dados\n",
    "sns.distplot(y, kde=False, kde_kws={\n",
    "             'label': '{}'.format(test.name)}, hist=True)\n",
    "ax1.minorticks_on()\n",
    "ax1.set_xlabel('Amostras', fontsize=10)\n",
    "ax1.set_ylabel('Count', fontsize=10)\n",
    "ax1.tick_params(axis='x', which=\"both\", direction='in', bottom=True, top=True)\n",
    "ax1.tick_params(axis='y', which=\"both\", direction='in',\n",
    "                bottom=False, top=False, right=True)\n",
    "plt.show()"
   ]
  }
 ],
 "metadata": {
  "kernelspec": {
   "display_name": "Python 3",
   "language": "python",
   "name": "python3"
  },
  "language_info": {
   "codemirror_mode": {
    "name": "ipython",
    "version": 3
   },
   "file_extension": ".py",
   "mimetype": "text/x-python",
   "name": "python",
   "nbconvert_exporter": "python",
   "pygments_lexer": "ipython3",
   "version": "3.8.5"
  },
  "latex_envs": {
   "LaTeX_envs_menu_present": true,
   "autoclose": false,
   "autocomplete": true,
   "bibliofile": "biblio.bib",
   "cite_by": "apalike",
   "current_citInitial": 1,
   "eqLabelWithNumbers": true,
   "eqNumInitial": 1,
   "hotkeys": {
    "equation": "Ctrl-E",
    "itemize": "Ctrl-I"
   },
   "labels_anchors": false,
   "latex_user_defs": false,
   "report_style_numbering": false,
   "user_envs_cfg": false
  },
  "toc": {
   "base_numbering": 1,
   "nav_menu": {},
   "number_sections": true,
   "sideBar": true,
   "skip_h1_title": false,
   "title_cell": "Table of Contents",
   "title_sidebar": "Contents",
   "toc_cell": false,
   "toc_position": {},
   "toc_section_display": true,
   "toc_window_display": false
  },
  "varInspector": {
   "cols": {
    "lenName": 16,
    "lenType": 16,
    "lenVar": 40
   },
   "kernels_config": {
    "python": {
     "delete_cmd_postfix": "",
     "delete_cmd_prefix": "del ",
     "library": "var_list.py",
     "varRefreshCmd": "print(var_dic_list())"
    },
    "r": {
     "delete_cmd_postfix": ") ",
     "delete_cmd_prefix": "rm(",
     "library": "var_list.r",
     "varRefreshCmd": "cat(var_dic_list()) "
    }
   },
   "types_to_exclude": [
    "module",
    "function",
    "builtin_function_or_method",
    "instance",
    "_Feature"
   ],
   "window_display": false
  }
 },
 "nbformat": 4,
 "nbformat_minor": 4
}
